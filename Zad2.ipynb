{
 "cells": [
  {
   "cell_type": "markdown",
   "metadata": {},
   "source": [
    "> Zad 1\n"
   ]
  },
  {
   "cell_type": "code",
   "execution_count": 19,
   "metadata": {},
   "outputs": [
    {
     "name": "stdout",
     "output_type": "stream",
     "text": [
      "Wprowadź tekst: adrian\n",
      "n\n",
      "a\n",
      "i\n",
      "r\n",
      "d\n",
      "a\n"
     ]
    }
   ],
   "source": [
    "my_word = str(input(\"Wprowadź tekst: \"))\n",
    "word = list(my_word)\n",
    "backward = word[::-1]\n",
    "print('\\n'.join(backward))"
   ]
  },
  {
   "cell_type": "markdown",
   "metadata": {},
   "source": [
    "> Zad 2"
   ]
  },
  {
   "cell_type": "code",
   "execution_count": 20,
   "metadata": {},
   "outputs": [
    {
     "name": "stdout",
     "output_type": "stream",
     "text": [
      "Wprowadź ilość punktów(max 40 pkt): 20\n",
      "Twoja wartość procentowa to: 50.0%\n",
      "Twoja ocena to: dst.\n"
     ]
    }
   ],
   "source": [
    "num = float(input(\"Wprowadź ilość punktów(max 40 pkt): \"))\n",
    "max = 40\n",
    "numm = num/max * 100\n",
    "\n",
    "wynik = numm\n",
    "print(\"Twoja wartość procentowa to: {}%\".format(numm))\n",
    "if wynik <= 39:\n",
    "    answer = \"ndst\"\n",
    "elif wynik <= 49:\n",
    "    answer = \"dop\"\n",
    "elif wynik <= 69:\n",
    "    answer = \"dst\"\n",
    "elif wynik <= 84:\n",
    "    answer = \"db\"\n",
    "elif wynik <= 99:\n",
    "    answer = \"bdb\"\n",
    "else:\n",
    "    answer = \"cel\"\n",
    "print(\"Twoja ocena to: {}.\".format(answer))"
   ]
  },
  {
   "cell_type": "markdown",
   "metadata": {},
   "source": [
    "> Zad 3"
   ]
  },
  {
   "cell_type": "code",
   "execution_count": 12,
   "metadata": {},
   "outputs": [
    {
     "name": "stdout",
     "output_type": "stream",
     "text": [
      "Podaj początek ciągu liczb:3\n",
      "Podaj koniec ciągu liczb:7\n",
      "25\n"
     ]
    }
   ],
   "source": [
    "def suma(x, y):\n",
    "    result = 0\n",
    "    for num in range(int(x), int(y)+1):\n",
    "        result += num\n",
    "        \n",
    "    print(result)\n",
    "    \n",
    "x = int(input('Podaj początek ciągu liczb:'))\n",
    "y = int(input('Podaj koniec ciągu liczb:'))\n",
    "\n",
    "suma(x, y)"
   ]
  },
  {
   "cell_type": "markdown",
   "metadata": {},
   "source": [
    "> Zad 4\n"
   ]
  },
  {
   "cell_type": "code",
   "execution_count": 15,
   "metadata": {},
   "outputs": [
    {
     "name": "stdout",
     "output_type": "stream",
     "text": [
      "Ile elementów chcesz wprowadzić:3\n",
      "Podaj 1 element5\n",
      "Podaj 2 element8\n",
      "Podaj 3 element3\n",
      "Średnia podanych przez Ciebie elementów wynosi 5.333333333333333\n",
      "Średnia obliczona przez numpy to 5.333333333333333\n",
      "Odchylenie standardowe podanych przez Ciebie elementów wynosi 2.0548046676563256\n",
      "Odchylenie standardowe obliczone przez numpy to 2.0548046676563256\n"
     ]
    }
   ],
   "source": [
    "from math import sqrt\n",
    "import numpy as np\n",
    "\n",
    "def calculate_mean(numbers):\n",
    "    summary = 0\n",
    "    for number in numbers:\n",
    "        summary += number\n",
    "    \n",
    "    return summary / len(numbers)\n",
    "\n",
    "def calculate_std_dev(numbers, mean):\n",
    "    summary = 0\n",
    "    for number in numbers:\n",
    "        summary += (number - mean)**2\n",
    "        \n",
    "    return sqrt(summary/(len(numbers)))\n",
    "\n",
    "def run_script():\n",
    "    number_of_elements = int(input('Ile elementów chcesz wprowadzić:'))\n",
    "    elements = []\n",
    "    for element_number in range(1, number_of_elements+1):\n",
    "        elements.append(int(input('Podaj ' + str(element_number) + ' element')))\n",
    "    \n",
    "    mean = calculate_mean(elements)\n",
    "    std_dev = calculate_std_dev(elements, mean)\n",
    "    \n",
    "    print('Średnia podanych przez Ciebie elementów wynosi', mean)\n",
    "    print('Średnia obliczona przez numpy to', np.mean(elements))\n",
    "    \n",
    "    print('Odchylenie standardowe podanych przez Ciebie elementów wynosi', std_dev)\n",
    "    print('Odchylenie standardowe obliczone przez numpy to', np.std(elements))\n",
    "    \n",
    "run_script()"
   ]
  },
  {
   "cell_type": "markdown",
   "metadata": {},
   "source": [
    "> Zad 5"
   ]
  },
  {
   "cell_type": "code",
   "execution_count": 16,
   "metadata": {},
   "outputs": [
    {
     "name": "stdout",
     "output_type": "stream",
     "text": [
      "Podaj liczbę3\n",
      "6\n",
      "6\n"
     ]
    }
   ],
   "source": [
    "def iterative_factorial(number):\n",
    "    if number <= 2:\n",
    "        return number\n",
    "    \n",
    "    result = 1\n",
    "    for i in range(2, number+1):\n",
    "        result *= i\n",
    "        \n",
    "    print(result)\n",
    "\n",
    "def recursive_factorial(number, result=0):\n",
    "    if result == 0:\n",
    "        result = number\n",
    "        \n",
    "    if number-1 >= 1:\n",
    "        result *= (number-1)\n",
    "        recursive_factorial(number-1, result=result)\n",
    "    else:\n",
    "        print(result)\n",
    "        \n",
    "\n",
    "number = int(input('Podaj liczbę: '))\n",
    "iterative_factorial(number)\n",
    "recursive_factorial(number)"
   ]
  },
  {
   "cell_type": "markdown",
   "metadata": {},
   "source": [
    "> Zad 6"
   ]
  },
  {
   "cell_type": "code",
   "execution_count": 1,
   "metadata": {},
   "outputs": [
    {
     "name": "stdout",
     "output_type": "stream",
     "text": [
      "Podaj numer liczby w ciągu Fibonacciego: 3\n",
      "3 liczba w ciągu Fibonacciego to: 2\n"
     ]
    }
   ],
   "source": [
    "def iterative_fibonacci(n):\n",
    "    if n == 0 or n == 1:\n",
    "        return n\n",
    "\n",
    "    f_prim = 0\n",
    "    f = 1\n",
    "    for i in range(2, n + 1):\n",
    "        m = f + f_prim\n",
    "        f_prim = f\n",
    "        f = m\n",
    "\n",
    "    return f\n",
    "n = int(input('Podaj numer liczby w ciągu Fibonacciego: '))\n",
    "f = iterative_fibonacci(n)\n",
    "print(str(n) + ' liczba w ciągu Fibonacciego to: ' + str(f))"
   ]
  },
  {
   "cell_type": "markdown",
   "metadata": {},
   "source": [
    "> Zad 7"
   ]
  },
  {
   "cell_type": "code",
   "execution_count": 17,
   "metadata": {},
   "outputs": [
    {
     "name": "stdout",
     "output_type": "stream",
     "text": [
      "Wprowadź n: 4\n",
      "Wprowadź k: 2\n",
      "6.0\n"
     ]
    }
   ],
   "source": [
    "from math import factorial\n",
    "\n",
    "\n",
    "def newton():\n",
    "    n = int(input(\"Wprowadź n: \"))\n",
    "    k = int(input(\"Wprowadź k: \"))\n",
    "    result = factorial(n)/(factorial(k) * (factorial(n - k)))\n",
    "    return result\n",
    "\n",
    "\n",
    "print(newton())"
   ]
  },
  {
   "cell_type": "markdown",
   "metadata": {},
   "source": [
    "> Zad 8"
   ]
  },
  {
   "cell_type": "code",
   "execution_count": 18,
   "metadata": {},
   "outputs": [
    {
     "name": "stdout",
     "output_type": "stream",
     "text": [
      "Podaj liczbę: 7\n",
      "Wynik to: \n",
      "[[1], [1, 1], [1, 2, 1], [1, 3, 3, 1], [1, 4, 6, 4, 1], [1, 5, 10, 10, 5, 1], [1, 6, 15, 20, 15, 6, 1]]\n"
     ]
    }
   ],
   "source": [
    "liczba = int(input('Podaj liczbę: '))\n",
    "def nowywiersz (wiersz):\n",
    "    wynik = []\n",
    "    poprzedni = 0\n",
    "    for i in wiersz:\n",
    "        wynik.append(i + poprzedni)\n",
    "        poprzedni = i\n",
    "    wynik.append(poprzedni)\n",
    "    return wynik\n",
    "    \n",
    "def trojkat(n):\n",
    "    wynik = []\n",
    "    obecnie = [1]\n",
    "    for i in range(0, n):\n",
    "        wynik.append(obecnie)\n",
    "        obecnie = nowywiersz(obecnie)\n",
    "        \n",
    "    return wynik\n",
    "print('Wynik to: ')\n",
    "print(trojkat(liczba))"
   ]
  },
  {
   "cell_type": "code",
   "execution_count": null,
   "metadata": {},
   "outputs": [],
   "source": []
  }
 ],
 "metadata": {
  "kernelspec": {
   "display_name": "Python 3.7.5 64-bit ('DataScience': conda)",
   "language": "python",
   "name": "python37564bitdatascienceconda603cf2d926d64870b4c19d7385b80981"
  },
  "language_info": {
   "codemirror_mode": {
    "name": "ipython",
    "version": 3
   },
   "file_extension": ".py",
   "mimetype": "text/x-python",
   "name": "python",
   "nbconvert_exporter": "python",
   "pygments_lexer": "ipython3",
   "version": "3.7.5"
  },
  "toc": {
   "base_numbering": 1,
   "nav_menu": {},
   "number_sections": true,
   "sideBar": true,
   "skip_h1_title": false,
   "title_cell": "Table of Contents",
   "title_sidebar": "Contents",
   "toc_cell": false,
   "toc_position": {},
   "toc_section_display": true,
   "toc_window_display": false
  }
 },
 "nbformat": 4,
 "nbformat_minor": 4
}
